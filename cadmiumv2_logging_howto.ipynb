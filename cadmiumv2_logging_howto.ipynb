{
 "cells": [
  {
   "cell_type": "markdown",
   "metadata": {},
   "source": [
    "<center><h1>Embedded Simulation with Cadmium v2</h1></center>\n",
    "\n",
    "<br></br>\n",
    "\n",
    "<center><h2>Ezequiel Pecker-Marcosig</h2></center>\n",
    "<center><h4><font color=blue>emarcosig@dc.uba.ar</font></h4></center>\n",
    "\n",
    "<br></br>\n",
    "<center><h3><font color=gray>Discrete-Event Simulations Lab (SEDLab)</font></h3></center>\n",
    "<center><h3><font color=gray>Computing Department (DC), Research Institute of Computer Science (ICC)</font></h3></center>\n",
    "<center><h3><font color=gray>School of Exact and Natural Sciences (FCEyN), University of Buenos Aires (UBA)</font></h3></center>\n",
    "\n",
    "<center><h3><font color=gray>Argentina</font></h3></center>\n"
   ]
  },
  {
   "cell_type": "markdown",
   "metadata": {},
   "source": [
    "# Table of Contents\n",
    "\n",
    "* [Introduction](#intro)\n",
    "* [Cadmium v2](#cadmium-v2)\n",
    "* [Mbed-OS](#mbed-os)\n",
    "* [Example: Blinky LED](#example-blinky-led)\n",
    "* [Next steps](#next-steps)"
   ]
  },
  {
   "cell_type": "markdown",
   "metadata": {
    "id": "gckVlgJ3Eia6"
   },
   "source": [
    "<a id='intro'></a>\n",
    "# Introduction\n",
    "\n",
    "In this tutorial I'm going to talk about:\n",
    "1. How to **work** with the **Cadmium v2 simulator** to build an application to run **embedded**.\n",
    "2. How to **debug** this application through simulations on PC.\n",
    "3. How to **log events** for debugging when running **embedded** and print it through the serial port.\n",
    "4. How to **reduce the memory footprint** for the executable to allow us to use cheaper hardware to run embedded aplications."
   ]
  },
  {
   "cell_type": "markdown",
   "metadata": {},
   "source": [
    "# This presentation\n",
    "\n",
    "This presentation is witten in a jupyter notebook. This is publicly available on Github. To clone this run:\n",
    "```bash\n",
    "$ git clone git@github.com:epecker/jupyter-cadmiumv2.git\n",
    "```\n",
    "\n",
    "Alternatively, the notebook can be followed directly in Github.\n",
    "\n",
    "Most of the content is left here for reference, but I will skip it during this presentation."
   ]
  },
  {
   "cell_type": "markdown",
   "metadata": {},
   "source": [
    "<a id='cadmium-v2'></a>\n",
    "# Cadmium v2\n",
    "\n",
    "Cadmium v2 [[1]](https://www.sciencedirect.com/science/article/pii/S1569190X22001198) is a brand new version of the Cadmium simulator toolkit [[2]](https://ieeexplore.ieee.org/document/9004917) that is implemented as a header-only C++ library. This new version of Cadmium is publicly available on GitHub [[3]](https://github.com/SimulationEverywhere/cadmium_v2). The documentation for Cadmium v2 can be found in this [wiki](https://github.com/SimulationEverywhere/cadmium_v2/wiki).\n",
    "\n",
    "To run Cadmium v2 embedded we are going to use the branch [rt-dev](https://github.com/SimulationEverywhere/cadmium_v2/tree/dev-rt) in the repo that was developed by Jon, Román and Guille. This code for Cadmium v2 runs on top of the [Mbed-OS](https://os.mbed.com/mbed-os/) real-time operating system at the user-application level.\n",
    "\n",
    "### References\n",
    "* [1] Cárdenas, R., & Wainer, G. (2022). Asymmetric Cell-DEVS models with the Cadmium simulator. Simulation Modelling Practice and Theory, 121, 102649.\n",
    "* [2] Belloli, L., Vicino, D., Ruiz-Martin, C., & Wainer, G. (2019, December). Building devs models with the cadmium tool. In 2019 Winter Simulation Conference (WSC) (pp. 45-59). IEEE.\n",
    "* [3] Cárdenas, R., Trabes, G., 2022. Cadmium 2: an object-oriented C++ M&S platform for the PDEVS formalism. [Online; Accessed on: November, 24, 2022] Available at https://github.com/SimulationEverywhere/cadmium_v2."
   ]
  },
  {
   "cell_type": "markdown",
   "metadata": {},
   "source": [
    "## Setting up the environment\n",
    "\n",
    "In this presentation we are going to work with a copy of the Github repo for Cadmium v2 that can be found [here](https://github.com/epecker/cadmium_v2). To clone this repo run:\n",
    "\n",
    "```bash\n",
    "$ git clone https://github.com/epecker/cadmium_v2.git\n",
    "```\n",
    "\n",
    "The snippets shown in this notebook can be run directly in the gray colored cells (by pressing CTRL + ENTER) or just copy the commands into a bash terminal. \n",
    "\n",
    "For the ease of presentation I will follow this second approach, so let's skip the next section."
   ]
  },
  {
   "cell_type": "markdown",
   "metadata": {},
   "source": [
    "### Running the code in the notebook\n",
    "\n",
    "Following we load the Python library `pathlib` to allows us define some environmental variables that will be used inside this notebook, and then define some environmental variables in Bash that will be used along this notebook:"
   ]
  },
  {
   "cell_type": "code",
   "execution_count": 264,
   "metadata": {},
   "outputs": [],
   "source": [
    "from pathlib import Path\n",
    "\n",
    "CADMIUMV2_HOME = Path.home().joinpath('SED/demo-cadmiumv2')\n",
    "CADMIUMV2_DIR = CADMIUMV2_HOME.joinpath('cadmium_v2')\n",
    "\n",
    "CADMIUMV2_SRC = CADMIUMV2_DIR.joinpath('include/cadmium/core')\n",
    "CADMIUMV2_BLINKY_EXAMPLE = CADMIUMV2_HOME.joinpath('Blinky')\n",
    "CADMIUMV2_BLINKY_EXAMPLE_TOP = CADMIUMV2_BLINKY_EXAMPLE.joinpath('top_model')\n",
    "CADMIUMV2_COUNTER7SEG_EXAMPLE = CADMIUMV2_HOME.joinpath('Counter7seg')\n",
    "CADMIUMV2_COUNTER7SEG_EXAMPLE_TOP = CADMIUMV2_BLINKY_EXAMPLE.joinpath('top_model')\n",
    "\n",
    "# URL for the repo\n",
    "CADMIUMV2_TEST_REPO = 'https://github.com/epecker/cadmium_v2.git'\n",
    "BLINKY_EXAMPLE_REPO = 'https://github.com/epecker/Blinky.git'"
   ]
  },
  {
   "cell_type": "markdown",
   "metadata": {},
   "source": [
    "Finally, let's clone the repo `CADMIUMV2_TEST_REPO` in folder `CADMIUMV2_HOME` (uncomment and run the following cell):"
   ]
  },
  {
   "cell_type": "code",
   "execution_count": 254,
   "metadata": {},
   "outputs": [
    {
     "name": "stdout",
     "output_type": "stream",
     "text": [
      "Finished!\n"
     ]
    },
    {
     "name": "stderr",
     "output_type": "stream",
     "text": [
      "Cloning into 'cadmium_v2'...\n"
     ]
    }
   ],
   "source": [
    "%%bash -s \"$CADMIUMV2_HOME\" \"$CADMIUMV2_TEST_REPO\"\n",
    "\n",
    "# $1 is the folder we are going to clone cadmium v2 (CADMIUMV2_HOME)\n",
    "# $2 is the URL for the repo (CADMIUMV2_TEST_REPO)\n",
    "\n",
    "# check if the folder exists and if it exists the does nothing, otherwise it creates the folder\n",
    "[ -d $1 ] || mkdir -p $1\n",
    "cd $1\n",
    "\n",
    "# check if the folder exists and if it exists the does nothing, otherwise it clones the repo with git clone\n",
    "[ -d cadmium_v2 ] || git clone $2 \n",
    "\n",
    "echo \"Finished!\""
   ]
  },
  {
   "cell_type": "markdown",
   "metadata": {},
   "source": [
    "Then clone the repo for the Example:"
   ]
  },
  {
   "cell_type": "code",
   "execution_count": 256,
   "metadata": {},
   "outputs": [
    {
     "name": "stdout",
     "output_type": "stream",
     "text": [
      "Finished!\n"
     ]
    },
    {
     "name": "stderr",
     "output_type": "stream",
     "text": [
      "Cloning into 'Blinky'...\n",
      "Checking out files: 100% (17193/17193), done.\n"
     ]
    }
   ],
   "source": [
    "%%bash -s \"$CADMIUMV2_HOME\" \"$BLINKY_EXAMPLE_REPO\"\n",
    "\n",
    "cd $1\n",
    "\n",
    "# check if the folder exists and if it exists the does nothing, otherwise it clones the repo with git clone\n",
    "[ -d Blinky ] || git clone $2 \n",
    "\n",
    "echo \"Finished!\""
   ]
  },
  {
   "cell_type": "markdown",
   "metadata": {},
   "source": [
    "### Running the code in a terminal\n",
    "\n",
    "Following we define some environmental variables in Bash that will be used along this notebook:\n",
    "\n",
    "```bash\n",
    "$ source define-env.sh\n",
    "```\n",
    "\n",
    "Then clone the repo `CADMIUMV2_TEST_REPO` in folder `CADMIUMV2_HOME`:\n",
    "```bash\n",
    "[ -d $CADMIUMV2_HOME ] || mkdir -p $CADMIUMV2_HOME\n",
    "cd $CADMIUMV2_HOME\n",
    "\n",
    "# check if the folder exists and if it exists the does nothing, otherwise it clones the repo with git clone\n",
    "[ -d cadmium_v2 ] || git clone $CADMIUMV2_TEST_REPO\n",
    "echo \"Finished!\"\n",
    "```\n",
    "\n",
    "Then clone the repo for the Example:\n",
    "\n",
    "```bash \n",
    "# check if the folder exists and if it exists the does nothing, otherwise it clones the repo with git clone\n",
    "[ -d Blinky ] || git clone $BLINKY_EXAMPLE_REPO \n",
    "\n",
    "echo \"Finished!\"\n",
    "```"
   ]
  },
  {
   "cell_type": "markdown",
   "metadata": {},
   "source": [
    "If everything went OK, under the folder `demo-cadmiumv2` you will find:"
   ]
  },
  {
   "cell_type": "code",
   "execution_count": 160,
   "metadata": {},
   "outputs": [
    {
     "name": "stdout",
     "output_type": "stream",
     "text": [
      "Blinky\n",
      "cadmium_v2\n",
      "Counter7seg\n",
      "define-env.sh\n",
      "jupyter-cadmiumv2\n"
     ]
    }
   ],
   "source": [
    "%%bash -s \"$CADMIUMV2_HOME\"\n",
    "\n",
    "cd $1\n",
    "\n",
    "ls"
   ]
  },
  {
   "cell_type": "markdown",
   "metadata": {
    "id": "CUINPZPnExWr"
   },
   "source": [
    "<a id='mbed-os'></a>\n",
    "# Mbed-OS \n",
    "\n",
    "[Mbed-OS](https://os.mbed.com/docs/mbed-os/v6.15/introduction/index.html) is an open-source real-time operating system with support for a wide range of ARM Cortex-M based devices.\n",
    "\n",
    "It provides an abstraction layer for the microcontrollers it runs on, so a developer does not need to worry about the hardware and can write C/C++ applications that run on any Mbed-enabled board.\n",
    "\n",
    "Mbed-OS can be donwloaded from this [github repo](https://github.com/ARMmbed/mbed-os)."
   ]
  },
  {
   "cell_type": "markdown",
   "metadata": {},
   "source": [
    "## Architecture\n",
    "\n",
    "Here we can see the basic [architecture](https://os.mbed.com/docs/mbed-os/v6.15/introduction/architecture.html) of an Mbed board running Mbed OS.\n",
    "\n",
    "On top of the RTOS it is the **user application**, which for us is composed of the Cadmium v2 simulator and the DEVS model running with it.\n",
    "\n",
    "Moreover, Mbed-OS uses a **Hardware Abstraction Layer** (HAL) to abstract away the low-level hardware details while providing [APIs](https://os.mbed.com/docs/mbed-os/v6.15/apis/index.html) to interact with it.\n",
    "\n",
    "<center><img src=\"img/Mbed_OS_diagram_for_intro.png\" alt=\"Architecture\" width=\"1500\"/></center>"
   ]
  },
  {
   "cell_type": "markdown",
   "metadata": {
    "id": "wIUfMyDoGFBV"
   },
   "source": [
    "## Tools\n",
    "\n",
    "Mbed provides [three alternatives](https://os.mbed.com/docs/mbed-os/v6.15/build-tools/index.html) to build an application with Mbed-OS:\n",
    "\n",
    "* <u>Mbed Online Compiler</u>: Web-browser based editor to write and build applications.\n",
    "* <u>Mbed Studio</u>: Desktop IDE that includes the Arm Compiler 6 (for building) and pyOCD (for debugging). \n",
    "* <u>Mbed CLI</u>: **C**ommand **L**ine **I**nterface for Mbed that can make use of different building toolchains and debugging. This is a Python-based building tool. We have two alternatives:\n",
    "  * **CLI1**\n",
    "  * CLI2\n",
    "\n",
    "In what follows we are going to use **Mbed CLI 1**.\n",
    "\n",
    "### Mbed CLI\n",
    "\n",
    "The different building toolchains that can be used with Mbed CLI to build Mbed OS are:\n",
    "\n",
    "| Compiler | Name in CLI|\n",
    "| ---------- | ------------ |\n",
    "| ARM Compiler | ARM |\n",
    "| GNU ARM Embedded toolchains | GCC_ARM |\n",
    "\n",
    "In what follows we are going to use the **GNU ARM** toolchain"
   ]
  },
  {
   "cell_type": "markdown",
   "metadata": {},
   "source": [
    "### Install the ARM GNU Toolchain (GCC ARM Compiler)\n",
    "\n",
    "The [GNU ARM Embedded Toolchain](https://developer.arm.com/Tools%20and%20Software/GNU%20Toolchain) is a ready-to-use, open-source suite of tools for C, C++ and assembly programming provided by ARM. It includes the GNU Compiler (GCC).\n",
    "\n",
    "This toolchain targets the 32-bit ARM Cortex-A, ARM Cortex-M, and ARM Cortex-R processor families. \n",
    "\n",
    "In what follows I'll assume we are using `gcc-arm-none-eabi-10.3-2021.10` for Linux. To download it, go to this [link](https://developer.arm.com/downloads/-/gnu-rm) and download the corresponding version for your OS:\n",
    "\n",
    "```bash\n",
    "$ wget https://developer.arm.com/-/media/Files/downloads/gnu-rm/10.3-2021.10/gcc-arm-none-eabi-10.3-2021.10-x86_64-linux.tar.bz2?rev=78196d3461ba4c9089a67b5f33edf82a&hash=D484B37FF37D6FC3597EBE2877FB666A41D5253B\n",
    "```\n",
    "\n",
    "Then, extract GCC ARM:\n",
    "\n",
    "```bash\n",
    "$ tar jxf gcc-arm-none-eabi-10.3-2021.10-x86_64-linux.tar.bz2\n",
    "```\n",
    "\n",
    "And finally move the GCC ARM Compiler to the `/opt/` folder (requires root privileges):\n",
    "\n",
    "```bash\n",
    "$ sudo mv gcc-arm-none-eabi-10.3-2021.10 /opt/\n",
    "```"
   ]
  },
  {
   "cell_type": "markdown",
   "metadata": {},
   "source": [
    "We can take a look at ths folder to see all the tools for building and debugging provided by this toolchain:"
   ]
  },
  {
   "cell_type": "code",
   "execution_count": 246,
   "metadata": {
    "scrolled": true,
    "tags": []
   },
   "outputs": [
    {
     "name": "stdout",
     "output_type": "stream",
     "text": [
      "arm-none-eabi-addr2line\n",
      "arm-none-eabi-ar\n",
      "arm-none-eabi-as\n",
      "arm-none-eabi-c++\n",
      "arm-none-eabi-c++filt\n",
      "arm-none-eabi-cpp\n",
      "arm-none-eabi-elfedit\n",
      "arm-none-eabi-g++\n",
      "arm-none-eabi-gcc\n",
      "arm-none-eabi-gcc-10.3.1\n",
      "arm-none-eabi-gcc-ar\n",
      "arm-none-eabi-gcc-nm\n",
      "arm-none-eabi-gcc-ranlib\n",
      "arm-none-eabi-gcov\n",
      "arm-none-eabi-gcov-dump\n",
      "arm-none-eabi-gcov-tool\n",
      "arm-none-eabi-gdb\n",
      "arm-none-eabi-gdb-add-index\n",
      "arm-none-eabi-gdb-add-index-py\n",
      "arm-none-eabi-gdb-py\n",
      "arm-none-eabi-gprof\n",
      "arm-none-eabi-ld\n",
      "arm-none-eabi-ld.bfd\n",
      "arm-none-eabi-lto-dump\n",
      "arm-none-eabi-nm\n",
      "arm-none-eabi-objcopy\n",
      "arm-none-eabi-objdump\n",
      "arm-none-eabi-ranlib\n",
      "arm-none-eabi-readelf\n",
      "arm-none-eabi-size\n",
      "arm-none-eabi-strings\n",
      "arm-none-eabi-strip\n"
     ]
    }
   ],
   "source": [
    "%%bash\n",
    "ls /opt/gcc-arm-none-eabi-10.3-2021.10/bin/"
   ]
  },
  {
   "cell_type": "markdown",
   "metadata": {
    "tags": []
   },
   "source": [
    "Among them we can see:\n",
    "\n",
    "* `arm-none-eabi-g++`: C++ compiler\n",
    "* `arm-none-eabi-ld`: Linker\n",
    "* `arm-none-eabi-size`: Tool to measure the size of our code\n",
    "* `arm-none-eabi-nm`: Tool to list symbols from object files\n",
    "* `arm-none-eabi-objdump`: Tool to display information from object files"
   ]
  },
  {
   "cell_type": "markdown",
   "metadata": {},
   "source": [
    "### Installation and setup of Mbed CLI 1\n",
    "\n",
    "A step-by-step guide to install the Mbed CLI 1 tool can be found [here](https://os.mbed.com/docs/mbed-os/v6.15/build-tools/install-and-set-up.html). Make sure that all the dependencies are satisfied, otherwise run the following:\n",
    "\n",
    "```bash\n",
    "$ sudo apt install python3 python3-pip git\n",
    "```\n",
    "\n",
    "Then, to install the `mbed-cli` run:\n",
    "\n",
    "```bash\n",
    "$ python3 -m pip install mbed-cli\n",
    "```\n",
    "\n",
    "Finally, to configure Mbed CLI 1 we use the command `mbed config`. To print a full list of the available parameters run:"
   ]
  },
  {
   "cell_type": "code",
   "execution_count": null,
   "metadata": {},
   "outputs": [],
   "source": [
    "%%bash\n",
    "mbed config --help"
   ]
  },
  {
   "cell_type": "markdown",
   "metadata": {},
   "source": [
    "Next, we use this command to make Mbed know where to find the GCC ARM Compiler that we downloaded before. Given that we are using the GCC ARM Embedded Compiler, we have to set the `GCC_ARM_PATH`:"
   ]
  },
  {
   "cell_type": "code",
   "execution_count": null,
   "metadata": {},
   "outputs": [],
   "source": [
    "%%bash \n",
    "mbed config -G GCC_ARM_PATH /opt/gcc-arm-none-eabi-10.3-2021.10/bin"
   ]
  },
  {
   "cell_type": "markdown",
   "metadata": {},
   "source": [
    "where the `-G` means that this setting is global, i.w. it applies to all the applications compiled with Mbed CLI 1."
   ]
  },
  {
   "cell_type": "markdown",
   "metadata": {
    "id": "1PwHGYhswSAb",
    "tags": []
   },
   "source": [
    "## Building with Mbed CLI 1\n",
    "\n",
    "For [building](https://os.mbed.com/docs/mbed-os/v6.15/build-tools/compile.html) our application we use `mbed compile`. To print a full list of the available parameters run:"
   ]
  },
  {
   "cell_type": "code",
   "execution_count": null,
   "metadata": {},
   "outputs": [],
   "source": [
    "%%bash\n",
    "mbed compile -h"
   ]
  },
  {
   "cell_type": "markdown",
   "metadata": {
    "id": "M23zv0qjmesw"
   },
   "source": [
    "We see that for building an application with Mbed CLI 1 we use the following command:\n",
    "```bash\n",
    "$ mbed compile -m <TARGET> -t <TOOLCHAIN> --profile <PROFILE> --flash.\n",
    "```\n",
    "where the \\<TARGET\\> depends on the MCU, the \\<TOOLCHAIN\\> corresponds to `ARM GCC`, and the \\<PROFILE\\> is used to pass options to the compilers.\n",
    "\n",
    "The resulting files after building can be found under `BUILD/<TARGET>/<TOOLCHAIN>-<PROFILE>/`. They are:\n",
    "\n",
    "* `<PROJECT_NAME>.bin`: Executable file (pure binary).\n",
    "* `<PROJECT_NAME>.elf`: Executable file that includes additional information.\n",
    "* `<PROJECT_NAME>.map`: Map file used by the linker.\n",
    "\n",
    "Then we have to flash the file `<PROJECT_NAME>.bin` in the MCU. In STM boards provided with a ST-Link programmer, this is done by simply copying the `bin` file in the USB mass storage device created when plugging the board to the PC.\n",
    "\n",
    "It is worth mentioning that `mbed compile` scans our project looking for source files to compile. To [exclude](https://os.mbed.com/docs/mbed-os/v6.15/program-setup/build-rules.html) some file or folder we have to write an `.mbedignore` file."
   ]
  },
  {
   "cell_type": "markdown",
   "metadata": {
    "id": "IEuoPeoplC74"
   },
   "source": [
    "## Build profiles\n",
    "\n",
    "As we mentioned before, the [build profiles](https://os.mbed.com/docs/mbed-os/v6.15/program-setup/build-profiles-and-rules.html) are used to pass options to the compilers (e.g. `arm-none-eabi-g++`) and the linker (`arm-none-eabi-ld`). These files are then passed to `mbed compile` with the option `--profile`.\n",
    "\n",
    "A user counts on a set of pre-defined profiles or can write its own profile. Take into account that more than one build profile can b specified by calling multiple times to `--profile`.\n",
    "\n",
    "### Pre-defined build profiles\n",
    "\n",
    "There are 3 pre-defined [profiles](https://os.mbed.com/docs/mbed-os/v6.15/program-setup/build-profiles-and-rules.html#release):\n",
    "\n",
    "* `Develop`: (`--profile develop`) this profile provides small and fast code.\n",
    "* `Debug`: (`--profile debug`) this profile provides the largest and slowest performance.\n",
    "* `Release`: (`--profile release`) this features the smallest code size and still fast. \n",
    "\n",
    "### User-defined build profiles\n",
    "\n",
    "A user can also create their own custom build profile using a [JSON files](https://os.mbed.com/docs/mbed-os/v6.15/program-setup/build-profiles-and-rules.html#JSON-build-profile-format:~:text=the%20command%20line.-,JSON%20build%20profile%20format,-The%20build%20profiles) with the root object containing key-value pairs for each supported toolchain, in our case this is `GCC_ARM`. Then, the following keys can used to specify:\n",
    "\n",
    "* `c`: Flags for the C Compiler\n",
    "* `cxx`: Flags for the C++ Compiler\n",
    "* `common`: Flags for _both_ the C and C++ Compilers\n",
    "* `ld`: Flags for the Linker\n",
    "\n",
    "Some common options for the c and c++ compilers are: `-Wall`(for enabling all warning flags during complation), `-Wextra` (for enabling extra warning flags), \"-Os\" (for optimizing for size), etc. \n",
    "\n",
    "In addition, a user can specify definitions with the option `-D` as if they have been created with the `#define` directive.\n",
    "\n",
    "Let's see how this file looks like for the Blinky example that we will see shortly:"
   ]
  },
  {
   "cell_type": "code",
   "execution_count": null,
   "metadata": {},
   "outputs": [],
   "source": [
    "%%bash -s \"$CADMIUMV2_BLINKY_EXAMPLE\"\n",
    "cd $1\n",
    "cat cadmium_logging_off.json"
   ]
  },
  {
   "cell_type": "markdown",
   "metadata": {},
   "source": [
    "## Configuration system for Mbed-OS\n",
    "\n",
    "The [Configuration system](https://os.mbed.com/docs/mbed-os/v6.15/program-setup/advanced-configuration.html) for Mbed OS allows to customize compile-time configuration parameters. For instance, the baudrate used for the serial-USB debug interface. A full list of the configuration parameters can be seen [here](https://os.mbed.com/docs/mbed-os/v5.15/reference/configuration-platform.html)\n",
    "\n",
    "A user can modify this configuration parameters for a given application by means of the file JSON-formatted file `mbed_app.json`. Let's take a look at the corresponding file for the Blinky example:"
   ]
  },
  {
   "cell_type": "code",
   "execution_count": null,
   "metadata": {},
   "outputs": [],
   "source": [
    "%%bash -s \"$CADMIUMV2_BLINKY_EXAMPLE\"\n",
    "cd $1\n",
    "cat mbed_app.json"
   ]
  },
  {
   "cell_type": "markdown",
   "metadata": {},
   "source": [
    "In this example the specified target is `\"*\"` meaning that the following settings apply to all the boards.\n",
    "\n",
    "For instance, with the option `\"target.printf_lib\": \"minimal-printf\"` we are telling Mbed-OS to make use of a reduced version for the function `printf()` given that the standard version (`\"std\"`) requires more flash memory. \n",
    "\n",
    "We can also notice the use of the macro `NDEBUG`, by means of which we can get a reduction on memory usage ([link](https://os.mbed.com/blog/entry/Optimizing-memory-usage-in-mbed-OS-52/))."
   ]
  },
  {
   "cell_type": "markdown",
   "metadata": {},
   "source": [
    "<a id='example-blinky-led'></a>\n",
    "# Example: Blinky LED\n",
    "\n",
    "This is the _\"Hello World!\"_ example but for embedded systems. \n",
    "\n",
    "In this system a LED blinks at a given rate set in runtime by the user between two values (0.75s and 3s). The user can choose one value or the other by means of a push button. The state of this button is continuously polled (once every 0.1s).\n",
    "\n",
    "<center><img src=\"img/circuit.svg\" alt=\"Circuit\" width=\"300\"/></center>\n",
    "\n",
    "This is a basic example yet useful for understanding how to design an embedded application using Cadmium v2.\n",
    "\n",
    "## Model description\n",
    "\n",
    "We are going to build a DEVS model that represents this behavior. This model is composed of the coupled top model:\n",
    "* blinkySystem\n",
    "\n",
    "and three atomic models:\n",
    "* Blinky\n",
    "* Digital Input\n",
    "* Digital Output\n",
    "\n",
    "In addition, we introduce a Generator model to simulate the user randomly acting on the push button:\n",
    "* Generator\n",
    "\n",
    "The Digital Input and Digital output are pre-built and come with the simulator. Therefore, we only have to build and test the Blinky atomic model. This Blinky model will periodically schedule an internal event to toggle the value on its output port."
   ]
  },
  {
   "cell_type": "markdown",
   "metadata": {},
   "source": [
    "## Model and simulator\n",
    "\n",
    "This is the model that we will be using across all the design stages:\n",
    "\n",
    "<center><img src=\"img/blinky.svg\" alt=\"Model\" width=\"600\"/></center>\n",
    "\n",
    "The _switces_ are used to choose which models are used depending on the stage we are: \n",
    "* simulation (debug), or \n",
    "* running embedded."
   ]
  },
  {
   "cell_type": "markdown",
   "metadata": {},
   "source": [
    "### Simulation\n",
    "\n",
    "In simulation-time we conduct some experiments in PC to check that the Blinky model behaves as expected. To this end, we introduced the Generator that generates events randomly distributed in time:\n",
    "\n",
    "<center><img src=\"img/blinky-simulation.svg\" alt=\"Model\" width=\"500\"/></center>"
   ]
  },
  {
   "cell_type": "markdown",
   "metadata": {},
   "source": [
    "### Embedded\n",
    "\n",
    "Once we are happy with how the Blinky model works, we disconnect the Generator and connect the Digital Input and Digital Output atomic models and build an executable to run embedded on a MCU.\n",
    "\n",
    "<center><img src=\"img/blinky-embedded.svg\" alt=\"Model\" width=\"500\"/></center>"
   ]
  },
  {
   "cell_type": "markdown",
   "metadata": {},
   "source": [
    "#### Model architecture for running embedded\n",
    "\n",
    "The model and the simulator are then built to produce an executable that will run as a user appication on top of Mbed-OS. This last provides the I/O API to let the Digital Input and Output atomic models interact with the real I/O ports:\n",
    "\n",
    "<center><img src=\"img/blinky-arch-2.svg\" alt=\"Architecture\" width=\"600\"/></center>"
   ]
  },
  {
   "cell_type": "markdown",
   "metadata": {},
   "source": [
    "## Implementation in Cadmium v2\n",
    "\n",
    "Let's move to the folder where we have cloned the repo for this example and take a look to the files that compose this application under `Blinky/top_model/`:"
   ]
  },
  {
   "cell_type": "markdown",
   "metadata": {},
   "source": [
    "The model is under the folder `top_model/`. This folder contains: \n",
    "\n",
    "```bash\n",
    "$ cd $CADMIUMV2_BLINKY_EXAMPLE/top_model\n",
    "$ ls -Rl\n",
    "```\n",
    "or simply run the cell:"
   ]
  },
  {
   "cell_type": "code",
   "execution_count": null,
   "metadata": {},
   "outputs": [],
   "source": [
    "%%bash -s \"$CADMIUMV2_BLINKY_EXAMPLE\"\n",
    "\n",
    "cd $1/top_model\n",
    "ls -R"
   ]
  },
  {
   "cell_type": "markdown",
   "metadata": {},
   "source": [
    "## Main file\n",
    "\n",
    "The main file for the application is `main_rt_model.cpp`, where they are created an instance of the **root coordinator**, the **top model**, and the simulation **logger** (if any).\n",
    "\n",
    "First we have to create an instance of the coupled top model (`blinkySystem`) and pass it to the root coordinator that is in charge of running the simulation:\n",
    "```c++\n",
    "auto model = std::make_shared<blinkySystem>(\"blinkySystem\");\n",
    "auto rootCoordinator = cadmium::RootCoordinator(model);\n",
    "```\n",
    "\n",
    "Then, to create a simulation logger (to log the atomic states in internal and confluent transitions and the outputs) and pass it to the root coordinator we use:\n",
    "```c++\n",
    "auto logger = std::make_shared<cadmium::CSVLogger>(\"blinkyLog.csv\",\";\");\n",
    "rootCoordinator.setLogger(logger);\n",
    "```\n",
    "\n",
    "Finally, to start the simulation and specify the simulation time (e.g. 1000s) we use:\n",
    "```c++\n",
    "rootCoordinator.start();\n",
    "rootCoordinator.simulate(1000.0);\n",
    "rootCoordinator.stop();\n",
    "```\n",
    "\n",
    "For a simulation that lasts infinite we use:\n",
    "```c++\n",
    "rootCoordinator.simulate(std::numeric_limits<double>::infinity());\n",
    "```\n",
    "\n",
    "We will notice two defines in the code for the main file:\n",
    "* `RT_ARM_MBED`: play the role of the switches that we saw before to decide whether to build the executable for simulation (PC) or for running embedded (MCU).\n",
    "* `NO_LOGGING`: used to remove all the code related to logging to reduce the size of the executable (more on this later).\n",
    "\n",
    "Then, let's see how the `main_rt_model.cpp` file looks like:"
   ]
  },
  {
   "cell_type": "code",
   "execution_count": null,
   "metadata": {},
   "outputs": [],
   "source": [
    "%%bash -s \"$CADMIUMV2_BLINKY_EXAMPLE\"\n",
    "\n",
    "cd $1/top_model\n",
    "cat main_rt_model.cpp"
   ]
  },
  {
   "cell_type": "markdown",
   "metadata": {},
   "source": [
    "## Top model\n",
    "\n",
    "The definition of the **top model** for this model is in `blinkySystem.hpp`. This coupled model has no input nor output ports and comprises three atomic models:\n",
    "1. Blinky\n",
    "2. DigitalInput\n",
    "3. DigitalOutput\n",
    "\n",
    "To add a new component we use:  \n",
    "```c\n",
    "auto generator = addComponent<Generator>(\"generator\");\n",
    "```\n",
    "\n",
    "We could also specify some parameters, e.g. the I/O ports for the Digital Input and Digital Output atomic models:\n",
    "\n",
    "```c\n",
    "auto digitalOutput = addComponent<DigitalOutput>(\"digitalOuput\", LED1);\n",
    "auto digitalInput  = addComponent<DigitalInput>(\"digitalInput\", PC_13);\n",
    "```\n",
    "\n",
    "[Here](https://os.mbed.com/platforms/ST-Nucleo-F401RE/) you can find the pinout for the NUCLEO F401RE board.\n",
    "\n",
    "To specify a coupled model we have to set the EIC, EOC and IC. In this example, the internal coupling between the atomic models are set with:\n",
    "```c\n",
    "addCoupling(digitalInput->out, blinky->in);\n",
    "addCoupling(blinky->out, digitalOutput->in);\n",
    "```\n",
    "\n",
    "Let's see how it looks like everything toghether:"
   ]
  },
  {
   "cell_type": "code",
   "execution_count": null,
   "metadata": {},
   "outputs": [],
   "source": [
    "%%bash -s \"$CADMIUMV2_BLINKY_EXAMPLE\"\n",
    "\n",
    "cd $1/top_model/include/\n",
    "cat blinkySystem.hpp"
   ]
  },
  {
   "cell_type": "markdown",
   "metadata": {},
   "source": [
    "## Blinky atomic model\n",
    "\n",
    "As an example let's see how the Blinky atomic model is specified in Cadmium v2:\n",
    "\n",
    "<center><img src=\"img/blinky-atomic.svg\" alt=\"Blinky atomic model\" width=\"200\"/></center>\n",
    "\n",
    "The Blinky atomic model has:\n",
    "* one input port `in`, \n",
    "* one output port `out`\n",
    "* two parameters: `slowToggleTime` and `fastToggleTime` (expressed in seconds)\n",
    "\n",
    "The state for this atomic model is `BlinkyState` and includes: \n",
    "* `lightOn`: this state toggles periodicaly\n",
    "* `fastToggle`: this state retains the blinking rate chosen by the user\n",
    "* `sigma`:\n",
    "\n",
    "The state is specified with a structure as follows:\n",
    "```c++\n",
    "struct BlinkyState {\n",
    "\tdouble sigma;\n",
    "\tbool lightOn;\n",
    "\tbool fastToggle;\n",
    "\t//! Blinky state constructor.\n",
    "\tBlinkyState(): sigma(0), lightOn(false), fastToggle(false)  {}\n",
    "};\n",
    "```\n",
    "\n",
    "For this model we have the class `Blinky` that is derived from the class `Atomic`. In the constructor for this class we set the values for the two possible blinking rates (0.75s and 3s) and schedule the next internal event:\n",
    "```C++\n",
    "Blinky(const std::string& id): Atomic<BlinkyState>(id, BlinkyState()) {\n",
    "\tout = addOutPort<bool>(\"out\");\n",
    "\tin  = addInPort<bool>(\"in\");\n",
    "\tslowToggleTime = 3.0;  \n",
    "\tfastToggleTime = 0.75;\n",
    "\tstate.sigma = fastToggleTime;\n",
    "}\n",
    "```\n",
    "\n",
    "In the internal transition function the state `lightOn` is toggled:\n",
    "```c++\n",
    "void internalTransition(BlinkyState& state) const override {\n",
    "\tstate.lightOn = !state.lightOn;\n",
    "}\n",
    "```\n",
    "\n",
    "In the external transition function, after the arrival of an external event, the state `fastToggle` is updated and with it the state `sigma`: \n",
    "```c++\n",
    "void externalTransition(BlinkyState& state, double e) const override {\n",
    "\tif(!in->empty()) {\n",
    "\t\tfor( const auto x : in->getBag()){\n",
    "\t\t\tif (x==0)\n",
    "\t\t\t\tstate.fastToggle = !state.fastToggle;\n",
    "\t\t}\n",
    "\n",
    "\t\tif(state.fastToggle)\n",
    "\t\t\tstate.sigma = fastToggleTime;\n",
    "\t\telse\n",
    "\t\t\tstate.sigma = slowToggleTime;\n",
    "\t}\n",
    "}\n",
    "```\n",
    "    \n",
    "Finally, the output function copies the value of the state `lightOn` in the output port:\n",
    "```c++\n",
    "void output(const BlinkyState& state) const override {\n",
    "\tout->addMessage(state.lightOn);\n",
    "}\n",
    "```\n",
    "\n",
    "For logging purposes we have to transform the structure-shaped state into a string. This is left to the user the responsability to define this transformation by overriding the insertion operator `<<`. For the Blinky, we only consider the states `ligthOn` and `sigma`:\n",
    "```c++\n",
    "std::ostream& operator<<(std::ostream &out, const BlinkyState& state) {\n",
    "\tout << \"Status:, \" << state.lightOn << \", sigma: \" << state.sigma;\n",
    "\treturn out;\n",
    "}\n",
    "```\n",
    "\n",
    "All this definition of the behavior for the Blinky atomic model is in `blinky.hpp`:"
   ]
  },
  {
   "cell_type": "code",
   "execution_count": null,
   "metadata": {},
   "outputs": [],
   "source": [
    "%%bash -s \"$CADMIUMV2_BLINKY_EXAMPLE\"\n",
    "\n",
    "cd $1/top_model/include/\n",
    "cat blinky.hpp"
   ]
  },
  {
   "cell_type": "markdown",
   "metadata": {},
   "source": [
    "## Verification of the model through simulations\n",
    "\n",
    "We have to evaluate the model via simulations to make sure that it works according to the specification.\n",
    "\n",
    "To simulate the model in PC we compile the model and simulator with `g++`:\n",
    "\n",
    "```bash\n",
    "$ g++ -g -c -std=c++17 -I ../../cadmium_v2/include/ -I include/ main_rt_model.cpp -o main.o\n",
    "$ g++ -g -o Blinky main.o\n",
    "```\n",
    "\n",
    "or run the cell:"
   ]
  },
  {
   "cell_type": "code",
   "execution_count": 249,
   "metadata": {},
   "outputs": [],
   "source": [
    "%%bash -s \"$CADMIUMV2_BLINKY_EXAMPLE\"\n",
    "\n",
    "cd $1/top_model\n",
    "\n",
    "g++ -g -c -std=c++17 -I ../../cadmium_v2/include/ -I include/ main_rt_model.cpp -o main.o\n",
    "g++ -g -o Blinky main.o"
   ]
  },
  {
   "cell_type": "markdown",
   "metadata": {},
   "source": [
    "Then an executable file `Blinky` is created. To run the model we use:\n",
    "\n",
    "```bash\n",
    "$ ./Blinky\n",
    "```\n",
    "\n",
    "or run the cell:"
   ]
  },
  {
   "cell_type": "code",
   "execution_count": 250,
   "metadata": {},
   "outputs": [],
   "source": [
    "%%bash -s \"$CADMIUMV2_BLINKY_EXAMPLE\"\n",
    "cd $1/top_model\n",
    "./Blinky"
   ]
  },
  {
   "cell_type": "markdown",
   "metadata": {},
   "source": [
    "A CSV file `blinkyLog.csv` is generated, with the format:\n",
    "\n",
    "```csv\n",
    "<time>; <atomic_model_id>; <atomic_model_name>; <atomic_port_name>; <value>\n",
    "```\n",
    "\n",
    "We can see the events and outputs of the simulation and check that the model works well with:\n",
    "\n",
    "```bash \n",
    "$ head blinkyLog.csv -n15\n",
    "```\n",
    "\n",
    "or run the cell:"
   ]
  },
  {
   "cell_type": "code",
   "execution_count": 251,
   "metadata": {},
   "outputs": [
    {
     "name": "stdout",
     "output_type": "stream",
     "text": [
      "time;model_id;model_name;port_name;data\n",
      "0;1;blinky;;Status:, 0, sigma: 0.75\n",
      "0;2;generator;;Status:, 0\n",
      "0.75;1;blinky;out;0\n",
      "0.75;1;blinky;;Status:, 1, sigma: 0.75\n",
      "1.5;1;blinky;out;1\n",
      "1.5;1;blinky;;Status:, 0, sigma: 0.75\n",
      "2.25;1;blinky;out;0\n",
      "2.25;1;blinky;;Status:, 1, sigma: 0.75\n",
      "3;1;blinky;out;1\n",
      "3;1;blinky;;Status:, 0, sigma: 0.75\n",
      "3.75;1;blinky;out;0\n",
      "3.75;1;blinky;;Status:, 1, sigma: 0.75\n",
      "4.5;1;blinky;out;1\n",
      "4.5;1;blinky;;Status:, 0, sigma: 0.75\n"
     ]
    }
   ],
   "source": [
    "%%bash -s \"$CADMIUMV2_BLINKY_EXAMPLE\"\n",
    "cd $1/top_model\n",
    "head blinkyLog.csv -n15"
   ]
  },
  {
   "cell_type": "markdown",
   "metadata": {},
   "source": [
    "We can see that the Blinky atomic model is producing an internal event after 0.75 seconds (`fastToggleTime`)."
   ]
  },
  {
   "cell_type": "markdown",
   "metadata": {},
   "source": [
    "Then, for the sake of simplicity we plot the events received by the Blinky atomic model when the button was pressed and the events generated accordingly on its output with:\n",
    "\n",
    "```Bash\n",
    "$ python plotLogSimu.py\n",
    "```\n",
    "\n",
    "or evaluating the following cell:"
   ]
  },
  {
   "cell_type": "code",
   "execution_count": 252,
   "metadata": {},
   "outputs": [
    {
     "data": {
      "image/png": "[encoded data removed]",
      "text/plain": [
       "<Figure size 1080x360 with 1 Axes>"
      ]
     },
     "metadata": {
      "needs_background": "light"
     },
     "output_type": "display_data"
    }
   ],
   "source": [
    "import matplotlib.pyplot as plt\n",
    "\n",
    "LOGFILE = str(CADMIUMV2_BLINKY_EXAMPLE)+'/top_model/'+'blinkyLog.csv'\n",
    "\n",
    "tblk_list = []\n",
    "outblk_list = []\n",
    "tgen_list = []\n",
    "outgen_list = []\n",
    "\n",
    "# TODO: replace the following with pandas\n",
    "with open(LOGFILE,'r') as f:\n",
    "    for line in f.readlines():\n",
    "        # debug\n",
    "        # print(line)\n",
    "        t,atomic_id,atomic_name,port_name,val = line.split(\";\")\n",
    "        if (atomic_name==\"blinky\" and port_name==\"out\"):\n",
    "            tblk_list.append(float(t))\n",
    "            outblk_list.append(int(val.split(\" \")[-1]))\n",
    "        elif (atomic_name==\"generator\" and port_name==\"out\"):\n",
    "            tgen_list.append(float(t))\n",
    "            outgen_list.append(int(val.split(\" \")[-1]))\n",
    "\n",
    "f.close()\n",
    "\n",
    "T1 = 500\n",
    "T2 = 600\n",
    "tblk = [x for x in tblk_list if x<T2 and x>T1]\n",
    "outblk = outblk_list[:len(tblk)]\n",
    "tgen = [x for x in tgen_list if x<T2 and x>T1]\n",
    "outgen = outgen_list[:len(tgen)]\n",
    "\n",
    "plt.figure(figsize=(15,5))\n",
    "# plt.step(tblk_list[0:150],outblk_list[0:150])\n",
    "# plt.plot(tgen_list[0:14],outgen_list[0:14],'r*')\n",
    "plt.step(tblk,outblk,label='output')\n",
    "plt.plot(tgen,outgen,'r*',label='input')\n",
    "plt.title('Blinky Output')\n",
    "plt.xlabel('time (s)')\n",
    "plt.ylabel('value')\n",
    "plt.legend()\n",
    "plt.grid(True)"
   ]
  },
  {
   "cell_type": "markdown",
   "metadata": {},
   "source": [
    "Then we see that the output of the Blinky model (blue line) toggles between 0 and 1, and the rate of blinking changes after receiving an input event (red star)."
   ]
  },
  {
   "cell_type": "markdown",
   "metadata": {},
   "source": [
    "## Experimental validation of the application in the hardware\n",
    "\n",
    "So far, we verified that the model behaves as expected, then it is time to embed it in the MCU.\n",
    "\n",
    "We are concerned on producing **lighter applications** with the ability to **debug them easily** by sending data back to the PC.\n",
    "\n",
    "To build the executable to run on the MCU we use `mbed compile`, with the target being a NUCLEO F401RE board (with an ARM Cortex M4 STM32F401RE) and the profile `cadmium_logging_off.json` that pass the compiler the defines `RT_ARM_MBED` and `NO_LOGGING`:\n",
    "\n",
    "```bash\n",
    "$ make clean\n",
    "$ mbed compile --target NUCLEO_F401RE --toolchain GCC_ARM --profile ../cadmium_logging_off.json\n",
    "```\n",
    "or execute the cell:"
   ]
  },
  {
   "cell_type": "code",
   "execution_count": 266,
   "metadata": {
    "tags": []
   },
   "outputs": [
    {
     "name": "stdout",
     "output_type": "stream",
     "text": [
      "WARNING: MBED_ARM_PATH set as environment variable but doesn't exist\n",
      "[Warning] @,: Compiler version mismatch: Have 10.3.1; expected version >= 6.0.0 and < 7.0.0\n",
      "Building project Blinky (NUCLEO_F401RE, GCC_ARM)\n",
      "Scan: Blinky\n",
      "Link: Blinky\n",
      "Elf2Bin: Blinky\n",
      "| Module                    |     .text |    .data |    .bss |\n",
      "|---------------------------|-----------|----------|---------|\n",
      "| [fill]                    |   118(+0) |    8(+0) |  23(+0) |\n",
      "| [lib]/c.a                 | 26128(+0) | 2472(+0) |  58(+0) |\n",
      "| [lib]/gcc.a               |  6924(+0) |    0(+0) |   0(+0) |\n",
      "| [lib]/misc                |   188(+0) |    4(+0) |  28(+0) |\n",
      "| [lib]/nosys.a             |    32(+0) |    0(+0) |   0(+0) |\n",
      "| [lib]/stdc++.a            |  6568(+0) |    8(+0) |  44(+0) |\n",
      "| mbed-os/drivers           |   906(+0) |    0(+0) |   0(+0) |\n",
      "| mbed-os/hal               |  1424(+0) |    4(+0) |  66(+0) |\n",
      "| mbed-os/platform          |  2978(+0) |  260(+0) | 225(+0) |\n",
      "| mbed-os/targets           |  5806(+0) |    4(+0) | 348(+0) |\n",
      "| top_model/main_rt_model.o | 13088(+0) |    0(+0) |   0(+0) |\n",
      "| Subtotals                 | 64160(+0) | 2760(+0) | 792(+0) |\n",
      "Total Static RAM memory (data + bss): 3552(+0) bytes\n",
      "Total Flash memory (text + data): 66920(+0) bytes\n",
      "\n",
      "Image: ../BUILD/NUCLEO_F401RE/GCC_ARM-CADMIUM_LOGGING_OFF/Blinky.bin\n",
      "[mbed] Working path \"/home/piter/SED/demo-cadmiumv2/Blinky/top_model\" (program)\n"
     ]
    }
   ],
   "source": [
    "%%bash -s \"$CADMIUMV2_BLINKY_EXAMPLE\"\n",
    "cd $1/top_model\n",
    "# make\n",
    "mbed compile --target NUCLEO_F401RE --toolchain GCC_ARM --profile ../cadmium_logging_off.json"
   ]
  },
  {
   "cell_type": "markdown",
   "metadata": {},
   "source": [
    "This last command shows a summary of all the compiled files and libraries and their sizes: \n",
    "* The **Total Flash memory** required to run the Blinky example (cadmium v2 simulator + blinky model) embedded is <font color=red>66920 bytes</font> \n",
    "* The **Total Static RAM memory** is <font color=red>3552 bytes</font>. \n",
    "* Cadmium v2 contributes with 13088 bytes, whereas \n",
    "* Mbed-OS adds 11114 bytes, and \n",
    "* The rest are C++ libraries.\n",
    "\n",
    "Then the embedded application can run with a low performance MCU such as the STM32F103RB (ARM Cortex M3) that comes with the NUCLEO F103RB board or the Arduino Bluepill which count with 128 kB of flash.\n",
    "\n",
    "\n",
    "It can be noticed that a folder `BUILD` is created in the root folder for this example containing several files including the executable `Blinky.bin`:\n",
    "\n",
    "```bash\n",
    "$ cd $CADMIUMV2_BLINKY_EXAMPLE/BUILD/NUCLEO_F401RE/GCC_ARM-CADMIUM_LOGGING_OFF\n",
    "$ ls -l\n",
    "$ du -h *.bin\n",
    "$ cd -\n",
    "```\n",
    "\n",
    "or in the cell:"
   ]
  },
  {
   "cell_type": "code",
   "execution_count": 189,
   "metadata": {},
   "outputs": [
    {
     "name": "stdout",
     "output_type": "stream",
     "text": [
      "Blinky.bin\n",
      "Blinky.elf\n",
      "Blinky.map\n",
      "Blinky_map.csv\n",
      "Blinky_map.html\n",
      "Blinky_map.json\n",
      "Blinky.map.old\n",
      "mbed_config.h\n",
      "mbed-os\n",
      "top_model\n",
      "76K\tBlinky.bin\n"
     ]
    }
   ],
   "source": [
    "%%bash -s \"$CADMIUMV2_BLINKY_EXAMPLE\"\n",
    "cd $1/BUILD/NUCLEO_F401RE/GCC_ARM-CADMIUM_LOGGING_OFF\n",
    "ls\n",
    "du -h *.bin"
   ]
  },
  {
   "cell_type": "markdown",
   "metadata": {},
   "source": [
    "It can be noticed that the size for the executable file `Blinky.bin` is slightly over the size reported by `mbed compile`."
   ]
  },
  {
   "cell_type": "markdown",
   "metadata": {},
   "source": [
    "Finally, to flash the binary file in the board we simply copy the bin file in the USB mass storage device created after plugging the board to the PC:\n",
    "\n",
    "```bash\n",
    "$ sudo cp $CADMIUMV2_BLINKY_EXAMPLE/BUILD/NUCLEO_F401RE/GCC_ARM-CADMIUM_LOGGING_OFF/*.bin /media/$USER/NOD_F401RE/\n",
    "```"
   ]
  },
  {
   "cell_type": "markdown",
   "metadata": {},
   "source": [
    "## Logging events when running embedded for debugging\n",
    "\n",
    "If in the **root coordinator** we set an RT logger that prints the events and outputs of the simulation through the serial port we can have a log similar log file but for the embedded application."
   ]
  },
  {
   "cell_type": "markdown",
   "metadata": {},
   "source": [
    "To enable logging we only pass the C++ compiler the define `RT_ARM_MBED` and then recompile:\n",
    "\n",
    "```bash\n",
    "$ mbed compile --target NUCLEO_F401RE --toolchain GCC_ARM --profile ../cadmium_logging_on.json --flash\n",
    "```\n",
    "\n",
    "or execute the cell:"
   ]
  },
  {
   "cell_type": "code",
   "execution_count": 200,
   "metadata": {
    "tags": []
   },
   "outputs": [
    {
     "name": "stdout",
     "output_type": "stream",
     "text": [
      "WARNING: MBED_ARM_PATH set as environment variable but doesn't exist\n",
      "[Warning] @,: Compiler version mismatch: Have 10.3.1; expected version >= 6.0.0 and < 7.0.0\n",
      "Building project Blinky (NUCLEO_F401RE, GCC_ARM)\n",
      "Scan: Blinky\n",
      "Link: Blinky\n",
      "Elf2Bin: Blinky\n",
      "| Module                    |           .text |       .data |        .bss |\n",
      "|---------------------------|-----------------|-------------|-------------|\n",
      "| [fill]                    |       146(+146) |       9(+9) |     27(+27) |\n",
      "| [lib]/c.a                 |   72504(+72504) | 2574(+2574) |     97(+97) |\n",
      "| [lib]/gcc.a               |     7256(+7256) |       0(+0) |       0(+0) |\n",
      "| [lib]/misc                |       188(+188) |       4(+4) |     28(+28) |\n",
      "| [lib]/nosys.a             |         32(+32) |       0(+0) |       0(+0) |\n",
      "| [lib]/stdc++.a            | 175004(+175004) |   145(+145) | 5720(+5720) |\n",
      "| mbed-os/drivers           |       906(+906) |       0(+0) |       0(+0) |\n",
      "| mbed-os/hal               |     1424(+1424) |       4(+4) |     66(+66) |\n",
      "| mbed-os/platform          |     3006(+3006) |   260(+260) |   225(+225) |\n",
      "| mbed-os/targets           |     5806(+5806) |       4(+4) |   348(+348) |\n",
      "| top_model/main_rt_model.o |   15196(+15196) |       0(+0) |       1(+1) |\n",
      "| Subtotals                 | 281468(+281468) | 3000(+3000) | 6512(+6512) |\n",
      "Total Static RAM memory (data + bss): 9512(+9512) bytes\n",
      "Total Flash memory (text + data): 284468(+284468) bytes\n",
      "\n",
      "Image: ../BUILD/NUCLEO_F401RE/GCC_ARM-CADMIUM_LOGGING_ON/Blinky.bin\n",
      "[mbed] Working path \"/home/piter/SED/demo-cadmiumv2/Blinky/top_model\" (program)\n"
     ]
    }
   ],
   "source": [
    "%%bash -s \"$CADMIUMV2_BLINKY_EXAMPLE\"\n",
    "cd $1/top_model\n",
    "# make\n",
    "mbed compile --target NUCLEO_F401RE --toolchain GCC_ARM --profile ../cadmium_logging_on.json --flash"
   ]
  },
  {
   "cell_type": "markdown",
   "metadata": {},
   "source": [
    "After doing this, we can notice that: \n",
    "* The **Total Flash memory** required increased to <font color=red>284468 bytes</font>.\n",
    "* Cadmium v2 contributes with 15196 bytes, whereas \n",
    "* Mbed-OS adds 11142 bytes, and \n",
    "* The rest are C++ libraries, with the major contribution is done by the `stdlibc++` with <font color=red>175004 bytes</font>.\n",
    "\n",
    "If we dive into the `stdlibc++` we would see that this increase in the memory footprint is due to the use of `streamstrings` for formatting the atomics' states and outputs as strings, **even if they are not being logged**. \n",
    "\n",
    "So, this executable for such a simple example might not be run embedded in a modest-performance hadware. \n",
    "\n",
    "Let's see what happen if we try to compile for NUCLEO F103RB:\n",
    "\n",
    "```bash\n",
    "$ mbed compile --target NUCLEO_F103RB --toolchain GCC_ARM --profile ../cadmium_logging_on.json\n",
    "```\n",
    "\n",
    "or execute the cell:"
   ]
  },
  {
   "cell_type": "code",
   "execution_count": 201,
   "metadata": {
    "scrolled": true,
    "tags": []
   },
   "outputs": [
    {
     "name": "stdout",
     "output_type": "stream",
     "text": [
      "WARNING: MBED_ARM_PATH set as environment variable but doesn't exist\n",
      "[Warning] @,: Compiler version mismatch: Have 10.3.1; expected version >= 6.0.0 and < 7.0.0\n",
      "Building project Blinky (NUCLEO_F103RB, GCC_ARM)\n",
      "Scan: Blinky\n",
      "Compile [100.0%]: main_rt_model.cpp\n",
      "Link: Blinky\n",
      "/opt/gcc-arm-none-eabi-10.3-2021.10/bin/../lib/gcc/arm-none-eabi/10.3.1/../../../../arm-none-eabi/bin/ld: ../BUILD/NUCLEO_F103RB/GCC_ARM-CADMIUM_LOGGING_ON/Blinky.elf section `.text' will not fit in region `FLASH'\n",
      "/opt/gcc-arm-none-eabi-10.3-2021.10/bin/../lib/gcc/arm-none-eabi/10.3.1/../../../../arm-none-eabi/bin/ld: region `FLASH' overflowed by 193496 bytes\n",
      "collect2: error: ld returned 1 exit status\n",
      "[ERROR] /opt/gcc-arm-none-eabi-10.3-2021.10/bin/../lib/gcc/arm-none-eabi/10.3.1/../../../../arm-none-eabi/bin/ld: ../BUILD/NUCLEO_F103RB/GCC_ARM-CADMIUM_LOGGING_ON/Blinky.elf section `.text' will not fit in region `FLASH'\n",
      "/opt/gcc-arm-none-eabi-10.3-2021.10/bin/../lib/gcc/arm-none-eabi/10.3.1/../../../../arm-none-eabi/bin/ld: region `FLASH' overflowed by 193496 bytes\n",
      "collect2: error: ld returned 1 exit status\n",
      "\n",
      "[mbed] Working path \"/home/piter/SED/demo-cadmiumv2/Blinky/top_model\" (program)\n"
     ]
    },
    {
     "name": "stderr",
     "output_type": "stream",
     "text": [
      "[mbed] ERROR: \"/usr/bin/python3\" returned error.\n",
      "       Code: 1\n",
      "       Path: \"/home/piter/SED/demo-cadmiumv2/Blinky/top_model\"\n",
      "       Command: \"/usr/bin/python3 -u /home/piter/SED/demo-cadmiumv2/Blinky/mbed-os/tools/make.py -t GCC_ARM -m NUCLEO_F103RB --profile ../cadmium_logging_on.json --source .. --build ../BUILD/NUCLEO_F103RB/GCC_ARM-CADMIUM_LOGGING_ON\"\n",
      "       Tip: You could retry the last command with \"-v\" flag for verbose output\n",
      "---\n"
     ]
    },
    {
     "ename": "CalledProcessError",
     "evalue": "Command 'b'cd $1/top_model\\n# make\\nmbed compile --target NUCLEO_F103RB --toolchain GCC_ARM --profile ../cadmium_logging_on.json\\n'' returned non-zero exit status 255.",
     "output_type": "error",
     "traceback": [
      "\u001b[0;31m---------------------------------------------------------------------------\u001b[0m",
      "\u001b[0;31mCalledProcessError\u001b[0m                        Traceback (most recent call last)",
      "\u001b[0;32m/tmp/ipykernel_4440/1765714163.py\u001b[0m in \u001b[0;36m<module>\u001b[0;34m\u001b[0m\n\u001b[0;32m----> 1\u001b[0;31m \u001b[0mget_ipython\u001b[0m\u001b[0;34m(\u001b[0m\u001b[0;34m)\u001b[0m\u001b[0;34m.\u001b[0m\u001b[0mrun_cell_magic\u001b[0m\u001b[0;34m(\u001b[0m\u001b[0;34m'bash'\u001b[0m\u001b[0;34m,\u001b[0m \u001b[0;34m'-s \"$CADMIUMV2_BLINKY_EXAMPLE\"'\u001b[0m\u001b[0;34m,\u001b[0m \u001b[0;34m'cd $1/top_model\\n# make\\nmbed compile --target NUCLEO_F103RB --toolchain GCC_ARM --profile ../cadmium_logging_on.json\\n'\u001b[0m\u001b[0;34m)\u001b[0m\u001b[0;34m\u001b[0m\u001b[0;34m\u001b[0m\u001b[0m\n\u001b[0m",
      "\u001b[0;32m~/.local/lib/python3.7/site-packages/IPython/core/interactiveshell.py\u001b[0m in \u001b[0;36mrun_cell_magic\u001b[0;34m(self, magic_name, line, cell)\u001b[0m\n\u001b[1;32m   2404\u001b[0m             \u001b[0;32mwith\u001b[0m \u001b[0mself\u001b[0m\u001b[0;34m.\u001b[0m\u001b[0mbuiltin_trap\u001b[0m\u001b[0;34m:\u001b[0m\u001b[0;34m\u001b[0m\u001b[0;34m\u001b[0m\u001b[0m\n\u001b[1;32m   2405\u001b[0m                 \u001b[0margs\u001b[0m \u001b[0;34m=\u001b[0m \u001b[0;34m(\u001b[0m\u001b[0mmagic_arg_s\u001b[0m\u001b[0;34m,\u001b[0m \u001b[0mcell\u001b[0m\u001b[0;34m)\u001b[0m\u001b[0;34m\u001b[0m\u001b[0;34m\u001b[0m\u001b[0m\n\u001b[0;32m-> 2406\u001b[0;31m                 \u001b[0mresult\u001b[0m \u001b[0;34m=\u001b[0m \u001b[0mfn\u001b[0m\u001b[0;34m(\u001b[0m\u001b[0;34m*\u001b[0m\u001b[0margs\u001b[0m\u001b[0;34m,\u001b[0m \u001b[0;34m**\u001b[0m\u001b[0mkwargs\u001b[0m\u001b[0;34m)\u001b[0m\u001b[0;34m\u001b[0m\u001b[0;34m\u001b[0m\u001b[0m\n\u001b[0m\u001b[1;32m   2407\u001b[0m             \u001b[0;32mreturn\u001b[0m \u001b[0mresult\u001b[0m\u001b[0;34m\u001b[0m\u001b[0;34m\u001b[0m\u001b[0m\n\u001b[1;32m   2408\u001b[0m \u001b[0;34m\u001b[0m\u001b[0m\n",
      "\u001b[0;32m~/.local/lib/python3.7/site-packages/IPython/core/magics/script.py\u001b[0m in \u001b[0;36mnamed_script_magic\u001b[0;34m(line, cell)\u001b[0m\n\u001b[1;32m    140\u001b[0m             \u001b[0;32melse\u001b[0m\u001b[0;34m:\u001b[0m\u001b[0;34m\u001b[0m\u001b[0;34m\u001b[0m\u001b[0m\n\u001b[1;32m    141\u001b[0m                 \u001b[0mline\u001b[0m \u001b[0;34m=\u001b[0m \u001b[0mscript\u001b[0m\u001b[0;34m\u001b[0m\u001b[0;34m\u001b[0m\u001b[0m\n\u001b[0;32m--> 142\u001b[0;31m             \u001b[0;32mreturn\u001b[0m \u001b[0mself\u001b[0m\u001b[0;34m.\u001b[0m\u001b[0mshebang\u001b[0m\u001b[0;34m(\u001b[0m\u001b[0mline\u001b[0m\u001b[0;34m,\u001b[0m \u001b[0mcell\u001b[0m\u001b[0;34m)\u001b[0m\u001b[0;34m\u001b[0m\u001b[0;34m\u001b[0m\u001b[0m\n\u001b[0m\u001b[1;32m    143\u001b[0m \u001b[0;34m\u001b[0m\u001b[0m\n\u001b[1;32m    144\u001b[0m         \u001b[0;31m# write a basic docstring:\u001b[0m\u001b[0;34m\u001b[0m\u001b[0;34m\u001b[0m\u001b[0;34m\u001b[0m\u001b[0m\n",
      "\u001b[0;32m~/.local/lib/python3.7/site-packages/decorator.py\u001b[0m in \u001b[0;36mfun\u001b[0;34m(*args, **kw)\u001b[0m\n\u001b[1;32m    230\u001b[0m             \u001b[0;32mif\u001b[0m \u001b[0;32mnot\u001b[0m \u001b[0mkwsyntax\u001b[0m\u001b[0;34m:\u001b[0m\u001b[0;34m\u001b[0m\u001b[0;34m\u001b[0m\u001b[0m\n\u001b[1;32m    231\u001b[0m                 \u001b[0margs\u001b[0m\u001b[0;34m,\u001b[0m \u001b[0mkw\u001b[0m \u001b[0;34m=\u001b[0m \u001b[0mfix\u001b[0m\u001b[0;34m(\u001b[0m\u001b[0margs\u001b[0m\u001b[0;34m,\u001b[0m \u001b[0mkw\u001b[0m\u001b[0;34m,\u001b[0m \u001b[0msig\u001b[0m\u001b[0;34m)\u001b[0m\u001b[0;34m\u001b[0m\u001b[0;34m\u001b[0m\u001b[0m\n\u001b[0;32m--> 232\u001b[0;31m             \u001b[0;32mreturn\u001b[0m \u001b[0mcaller\u001b[0m\u001b[0;34m(\u001b[0m\u001b[0mfunc\u001b[0m\u001b[0;34m,\u001b[0m \u001b[0;34m*\u001b[0m\u001b[0;34m(\u001b[0m\u001b[0mextras\u001b[0m \u001b[0;34m+\u001b[0m \u001b[0margs\u001b[0m\u001b[0;34m)\u001b[0m\u001b[0;34m,\u001b[0m \u001b[0;34m**\u001b[0m\u001b[0mkw\u001b[0m\u001b[0;34m)\u001b[0m\u001b[0;34m\u001b[0m\u001b[0;34m\u001b[0m\u001b[0m\n\u001b[0m\u001b[1;32m    233\u001b[0m     \u001b[0mfun\u001b[0m\u001b[0;34m.\u001b[0m\u001b[0m__name__\u001b[0m \u001b[0;34m=\u001b[0m \u001b[0mfunc\u001b[0m\u001b[0;34m.\u001b[0m\u001b[0m__name__\u001b[0m\u001b[0;34m\u001b[0m\u001b[0;34m\u001b[0m\u001b[0m\n\u001b[1;32m    234\u001b[0m     \u001b[0mfun\u001b[0m\u001b[0;34m.\u001b[0m\u001b[0m__doc__\u001b[0m \u001b[0;34m=\u001b[0m \u001b[0mfunc\u001b[0m\u001b[0;34m.\u001b[0m\u001b[0m__doc__\u001b[0m\u001b[0;34m\u001b[0m\u001b[0;34m\u001b[0m\u001b[0m\n",
      "\u001b[0;32m~/.local/lib/python3.7/site-packages/IPython/core/magic.py\u001b[0m in \u001b[0;36m<lambda>\u001b[0;34m(f, *a, **k)\u001b[0m\n\u001b[1;32m    185\u001b[0m     \u001b[0;31m# but it's overkill for just that one bit of state.\u001b[0m\u001b[0;34m\u001b[0m\u001b[0;34m\u001b[0m\u001b[0;34m\u001b[0m\u001b[0m\n\u001b[1;32m    186\u001b[0m     \u001b[0;32mdef\u001b[0m \u001b[0mmagic_deco\u001b[0m\u001b[0;34m(\u001b[0m\u001b[0marg\u001b[0m\u001b[0;34m)\u001b[0m\u001b[0;34m:\u001b[0m\u001b[0;34m\u001b[0m\u001b[0;34m\u001b[0m\u001b[0m\n\u001b[0;32m--> 187\u001b[0;31m         \u001b[0mcall\u001b[0m \u001b[0;34m=\u001b[0m \u001b[0;32mlambda\u001b[0m \u001b[0mf\u001b[0m\u001b[0;34m,\u001b[0m \u001b[0;34m*\u001b[0m\u001b[0ma\u001b[0m\u001b[0;34m,\u001b[0m \u001b[0;34m**\u001b[0m\u001b[0mk\u001b[0m\u001b[0;34m:\u001b[0m \u001b[0mf\u001b[0m\u001b[0;34m(\u001b[0m\u001b[0;34m*\u001b[0m\u001b[0ma\u001b[0m\u001b[0;34m,\u001b[0m \u001b[0;34m**\u001b[0m\u001b[0mk\u001b[0m\u001b[0;34m)\u001b[0m\u001b[0;34m\u001b[0m\u001b[0;34m\u001b[0m\u001b[0m\n\u001b[0m\u001b[1;32m    188\u001b[0m \u001b[0;34m\u001b[0m\u001b[0m\n\u001b[1;32m    189\u001b[0m         \u001b[0;32mif\u001b[0m \u001b[0mcallable\u001b[0m\u001b[0;34m(\u001b[0m\u001b[0marg\u001b[0m\u001b[0;34m)\u001b[0m\u001b[0;34m:\u001b[0m\u001b[0;34m\u001b[0m\u001b[0;34m\u001b[0m\u001b[0m\n",
      "\u001b[0;32m~/.local/lib/python3.7/site-packages/IPython/core/magics/script.py\u001b[0m in \u001b[0;36mshebang\u001b[0;34m(self, line, cell)\u001b[0m\n\u001b[1;32m    243\u001b[0m             \u001b[0msys\u001b[0m\u001b[0;34m.\u001b[0m\u001b[0mstderr\u001b[0m\u001b[0;34m.\u001b[0m\u001b[0mflush\u001b[0m\u001b[0;34m(\u001b[0m\u001b[0;34m)\u001b[0m\u001b[0;34m\u001b[0m\u001b[0;34m\u001b[0m\u001b[0m\n\u001b[1;32m    244\u001b[0m         \u001b[0;32mif\u001b[0m \u001b[0margs\u001b[0m\u001b[0;34m.\u001b[0m\u001b[0mraise_error\u001b[0m \u001b[0;32mand\u001b[0m \u001b[0mp\u001b[0m\u001b[0;34m.\u001b[0m\u001b[0mreturncode\u001b[0m\u001b[0;34m!=\u001b[0m\u001b[0;36m0\u001b[0m\u001b[0;34m:\u001b[0m\u001b[0;34m\u001b[0m\u001b[0;34m\u001b[0m\u001b[0m\n\u001b[0;32m--> 245\u001b[0;31m             \u001b[0;32mraise\u001b[0m \u001b[0mCalledProcessError\u001b[0m\u001b[0;34m(\u001b[0m\u001b[0mp\u001b[0m\u001b[0;34m.\u001b[0m\u001b[0mreturncode\u001b[0m\u001b[0;34m,\u001b[0m \u001b[0mcell\u001b[0m\u001b[0;34m,\u001b[0m \u001b[0moutput\u001b[0m\u001b[0;34m=\u001b[0m\u001b[0mout\u001b[0m\u001b[0;34m,\u001b[0m \u001b[0mstderr\u001b[0m\u001b[0;34m=\u001b[0m\u001b[0merr\u001b[0m\u001b[0;34m)\u001b[0m\u001b[0;34m\u001b[0m\u001b[0;34m\u001b[0m\u001b[0m\n\u001b[0m\u001b[1;32m    246\u001b[0m \u001b[0;34m\u001b[0m\u001b[0m\n\u001b[1;32m    247\u001b[0m     \u001b[0;32mdef\u001b[0m \u001b[0m_run_script\u001b[0m\u001b[0;34m(\u001b[0m\u001b[0mself\u001b[0m\u001b[0;34m,\u001b[0m \u001b[0mp\u001b[0m\u001b[0;34m,\u001b[0m \u001b[0mcell\u001b[0m\u001b[0;34m,\u001b[0m \u001b[0mto_close\u001b[0m\u001b[0;34m)\u001b[0m\u001b[0;34m:\u001b[0m\u001b[0;34m\u001b[0m\u001b[0;34m\u001b[0m\u001b[0m\n",
      "\u001b[0;31mCalledProcessError\u001b[0m: Command 'b'cd $1/top_model\\n# make\\nmbed compile --target NUCLEO_F103RB --toolchain GCC_ARM --profile ../cadmium_logging_on.json\\n'' returned non-zero exit status 255."
     ]
    }
   ],
   "source": [
    "%%bash -s \"$CADMIUMV2_BLINKY_EXAMPLE\"\n",
    "cd $1/top_model\n",
    "mbed compile --target NUCLEO_F103RB --toolchain GCC_ARM --profile ../cadmium_logging_on.json"
   ]
  },
  {
   "cell_type": "markdown",
   "metadata": {},
   "source": [
    "The error says that:\n",
    "\n",
    "> Blinky.elf section .text will not fit in region FLASH\n",
    ">\n",
    "> region FLASH overflowed by 193496 bytes\n",
    "\n",
    "So, the resulting executable overflows the 128kB of flash memory for the NUCLEO-F103RB by <font color=red>193496 bytes </font> 🤯\n",
    "\n",
    "Let's go back to the NUCLEO F401RE board and see how it looks like the logging in this case:\n",
    "\n",
    "```bash\n",
    "$ python printLogEmbed.py\n",
    "```\n",
    "\n",
    "or execute the cell:"
   ]
  },
  {
   "cell_type": "code",
   "execution_count": 235,
   "metadata": {},
   "outputs": [
    {
     "name": "stdout",
     "output_type": "stream",
     "text": [
      "['', '3', 'blinky', '', 'Status:, 0, sigma: 0.75\\n']\n",
      "['96.75', '1', 'digitalOuput', '', 'Pin: 0\\n']\n",
      "['96.75', '3', 'blinky', 'out', '0\\n']\n",
      "['96.75', '3', 'blinky', '', 'Status:, 1, sigma: 0.75\\n']\n",
      "['97.5', '1', 'digitalOuput', '', 'Pin: 1\\n']\n",
      "['97.5', '3', 'blinky', 'out', '1\\n']\n",
      "['97.5', '3', 'blinky', '', 'Status:, 0, sigma: 0.75\\n']\n",
      "['98.25', '1', 'digitalOuput', '', 'Pin: 0\\n']\n",
      "['98.25', '3', 'blinky', 'out', '0\\n']\n",
      "['98.25', '3', 'blinky', '', 'Status:, 1, sigma: 0.75\\n']\n",
      "['99', '1', 'digitalOuput', '', 'Pin: 1\\n']\n",
      "['99', '3', 'blinky', 'out', '1\\n']\n",
      "['99', '3', 'blinky', '', 'Status:, 0, sigma: 0.75\\n']\n",
      "['99.75', '1', 'digital100.5', '1', 'digitalOuput', '', 'Pin: 1\\n']\n",
      "['100.5', '3', 'blinky', 'out', '1\\n']\n",
      "['100.5', '3', 'blinky', '', 'Status:, 0, sigma: 0.75\\n']\n",
      "['101.25', '1', 'digitalOuput', '', 'Pin: 0\\n']\n",
      "['101.25', '3', 'blinky', 'out', '0\\n']\n",
      "['101.25', '3', 'blinky', '', 'Status:, 1, sigma: 0.75\\n']\n",
      "['102', '1', 'digitalOuput', '', 'Pin: 1\\n']\n"
     ]
    }
   ],
   "source": [
    "import matplotlib.pyplot as plt\n",
    "import serial\n",
    "\n",
    "# serial port parameters\n",
    "PORT = '/dev/ttyACM0'\n",
    "BAUDRATE = 9600\n",
    "\n",
    "tblk_list = []\n",
    "outblk_list = []\n",
    "tdin_list = []\n",
    "outdin_list = []\n",
    "\n",
    "with serial.Serial(PORT, BAUDRATE, timeout=1) as ser:\n",
    "    for i in range(0,20):\n",
    "        line = ser.readline()\n",
    "        print(line.decode(\"utf-8\").split(\";\"))"
   ]
  },
  {
   "cell_type": "markdown",
   "metadata": {},
   "source": [
    "For the sake of simplicity we plot the events received by the Blinky atomic model when the button was pressed and the events generated accordingly on its output:\n",
    "\n",
    "```bash\n",
    "$ python plotLogEmbed.py\n",
    "```\n",
    "or simply execute the cell:"
   ]
  },
  {
   "cell_type": "code",
   "execution_count": 241,
   "metadata": {},
   "outputs": [],
   "source": [
    "import matplotlib.pyplot as plt\n",
    "import serial\n",
    "\n",
    "# serial port parameters\n",
    "PORT = '/dev/ttyACM0'\n",
    "BAUDRATE = 9600\n",
    "\n",
    "tblk_list = []\n",
    "outblk_list = []\n",
    "tdin_list = []\n",
    "outdin_list = []\n",
    "\n",
    "with serial.Serial(PORT, BAUDRATE, timeout=1) as ser:\n",
    "    for i in range(0,200):\n",
    "        line = ser.readline()\n",
    "        # debug\n",
    "        # print(line)\n",
    "        if len(line.decode(\"utf-8\").split(\";\")) != 5:\n",
    "            continue\n",
    "        t,atomic_id,atomic_name,port_name,val = line.decode(\"utf-8\").split(\";\")\n",
    "        if (atomic_name==\"blinky\" and port_name==\"out\"):\n",
    "            # print(line)\n",
    "            tblk_list.append(float(t))\n",
    "            outblk_list.append(int(val.split(\" \")[-1]))\n",
    "        elif (atomic_name==\"digitalInput\" and port_name==\"out\" and int(val)==0):\n",
    "            # print(line)\n",
    "            tdin_list.append(float(t))\n",
    "            outdin_list.append(int(val))"
   ]
  },
  {
   "cell_type": "code",
   "execution_count": 244,
   "metadata": {},
   "outputs": [
    {
     "data": {
      "image/png": "[encoded data removed]",
      "text/plain": [
       "<Figure size 1080x360 with 1 Axes>"
      ]
     },
     "metadata": {
      "needs_background": "light"
     },
     "output_type": "display_data"
    }
   ],
   "source": [
    "tblk = tblk_list\n",
    "outblk = outblk_list\n",
    "tdin = tdin_list\n",
    "outdin = outdin_list\n",
    "\n",
    "plt.figure(figsize=(15,5))\n",
    "plt.step(tblk[5:],outblk[5:],label='output')\n",
    "plt.plot(tdin[0:],outdin[0:],'r*',label='input')\n",
    "plt.title('Blinky Output')\n",
    "plt.xlabel('time (s)')\n",
    "plt.ylabel('value')\n",
    "plt.legend()\n",
    "plt.grid(True)"
   ]
  },
  {
   "cell_type": "markdown",
   "metadata": {},
   "source": [
    "Therefore, we can take advantage of the embedded logging to get some valuable information of what is going on onboard but at the expense of getting larger size executable files."
   ]
  },
  {
   "cell_type": "markdown",
   "metadata": {},
   "source": [
    "**Disclaimer**\n",
    "\n",
    "To enable the logging for embedded simulations it is neccessary to increase the value for the constant `MISSED_DEADLINE_TOLERANCE` from its default value (500ms) to avoid missing a scheduled time advance deadline. This value is found in the `rt_clock.hpp` file."
   ]
  },
  {
   "cell_type": "markdown",
   "metadata": {
    "id": "bkwsCJKCtYqa"
   },
   "source": [
    "<a id='next-steps'></a>\n",
    "# Next steps\n",
    "\n",
    "1. Study alternatives to `streamstrings` to transform states and outputs into string to handle them easily (such as `minimal-printf`). \n",
    "2. Analyze which information should be logged when running embedded to avoid unnecesary delays and to have both: **embedded log for debugging** and **reduced memory use.**\n",
    "3. Consider if this alernative does also help cadmium (v1) to produce lighter executable files.\n",
    "4. Try other options for debugging applications embedded, such as OCD jointly with GDB (or graphical variants)."
   ]
  },
  {
   "cell_type": "markdown",
   "metadata": {},
   "source": [
    "<br></br>\n",
    "<br></br>\n",
    "<br></br>\n",
    "<br></br>\n",
    "<br></br>\n",
    "<br></br>\n",
    "<br></br>\n",
    "<br></br>\n",
    "<br></br>"
   ]
  },
  {
   "cell_type": "markdown",
   "metadata": {},
   "source": [
    "# Extras"
   ]
  },
  {
   "cell_type": "markdown",
   "metadata": {},
   "source": [
    "# Mbed-OS and the Arduino Bluepill board\n",
    "\n",
    "We can use Mbed-OS with the Arduino Bluepill board. To program this board we can use the ST-Link board that comes with the NUCLEO-F103RB or NUCLEO-F401RE boards. In order to do this follows the steps [here](https://os.mbed.com/users/hudakz/code/STM32F103C8T6_Hello/):\n",
    "\n",
    "1. Remove the two jumpers in connector CN2 in the ST-Link board\n",
    "2. Connect the pins in the ST-Link board and the Bluepill as follows:\n",
    "| Pin ST-Link (CN4) | Pin Bluepill |\n",
    "|-------------------|--------------|\n",
    "| SWCLK (2)         |    SWCLK     |\n",
    "| GND (3)           |    GND       |\n",
    "| SWDIO (4)         |    SWIO      |\n",
    "| NRST (5)          |    R         |\n",
    "3. Supply voltage to the Bluepill through the USB interface\n",
    "4. Compile the code with target `NUCLEO_F103RB`:\n",
    "```\n",
    "mbed compile --target NUCLEO_F103RB --toolchain GCC_ARM --profile ../cadmium2.json\n",
    "```\n",
    "5. Then copy the executable from the `BUILD` folder to the device created in Linux after connecting the ST-Link board.\n",
    "\n",
    "**NOTE** To program the bluepill with the ST-Link in a NUCLEO board, you will have to copy the executable in the USB device created after connecting the NUCLEO board. If it says that there is no much space, then remove and reconect the NUCLEO board from the USB and try to copy the file again.\n",
    "\n",
    "Have in mind that even when the Arduino Bluepill is advertized as having 128kB of Flash memory, in general it is provided with 128kB. Therefore, the Blinky LED example with Cadmium v2 that occupies ~70kB runs perfectly. The onboard LED is wired to port PC_13 and for the switch I used PB_13.\n",
    "\n",
    "<center><img src=\"img/Arduino-bluepill.jpg\" alt=\"Bluepill\" width=\"600\"/></center>"
   ]
  },
  {
   "cell_type": "markdown",
   "metadata": {},
   "source": [
    "## Serial terminal to read the logs\n",
    "\n",
    "Mbed does also provide a serial terminal to communicate with the board:"
   ]
  },
  {
   "cell_type": "code",
   "execution_count": 116,
   "metadata": {},
   "outputs": [
    {
     "name": "stdout",
     "output_type": "stream",
     "text": [
      "usage: mbed sterm [-h] [-m TARGET] [-p PORT] [-b BAUDRATE] [-e ECHO] [-r] [-v]\n",
      "                  [-vv]\n",
      "\n",
      "Open serial terminal to connected target (usually board), or connect to a user-specified COM port\n",
      "\n",
      "optional arguments:\n",
      "  -h, --help            show this help message and exit\n",
      "  -m TARGET, --target TARGET\n",
      "                        Compile target MCU. Example: K64F, NUCLEO_F401RE,\n",
      "                        NRF51822...\n",
      "  -p PORT, --port PORT  Communication port. Default: auto-detect. Specifying\n",
      "                        this will also ignore the -m/--target option above.\n",
      "  -b BAUDRATE, --baudrate BAUDRATE\n",
      "                        Communication baudrate. Default: 9600\n",
      "  -e ECHO, --echo ECHO  Switch local echo on/off. Default: on\n",
      "  -r, --reset           Reset the targets (via SendBreak) before opening\n",
      "                        terminal.\n",
      "  -v, --verbose         Verbose diagnostic output\n",
      "  -vv, --very_verbose   Very verbose diagnostic output\n"
     ]
    }
   ],
   "source": [
    "%%bash\n",
    "mbed sterm -h"
   ]
  },
  {
   "cell_type": "markdown",
   "metadata": {},
   "source": [
    "`Mbed-OS` binds the standard output with the serial port attached to the USB-serial interface on the board. In Linux a device will be created with name `ttyACM0`.\n",
    "\n",
    "Be sure that the baudrate is the same specified for `Mbed-OS` in the `mbed_app.json` file with the option `\"platform.stdio-baud-rate\"`."
   ]
  },
  {
   "cell_type": "markdown",
   "metadata": {},
   "source": [
    "## Built-in atomic models in Cadmium v2\n",
    "\n",
    "Cadmium comes with some built-in atomic models to interact with the hardware:\n",
    "* Digital Inputs\n",
    "* Digital Outputs\n",
    "* Analog Inputs\n",
    "* Analog Outputs\n",
    "* PWM Outputs\n",
    "* Interrupt Inputs\n",
    "\n",
    "These can be found under `cadmium/core/real_time/arm_mbed/io/`:"
   ]
  },
  {
   "cell_type": "code",
   "execution_count": 245,
   "metadata": {},
   "outputs": [
    {
     "name": "stdout",
     "output_type": "stream",
     "text": [
      "analogInput.hpp\n",
      "analogOutput.hpp\n",
      "digitalInput.hpp\n",
      "digitalOutput.hpp\n",
      "interruptInput.hpp\n",
      "pwmOutput.hpp\n"
     ]
    }
   ],
   "source": [
    "%%bash -s \"$CADMIUMV2_SRC\"\n",
    "\n",
    "cd $1/real_time/arm_mbed/io\n",
    "ls"
   ]
  },
  {
   "cell_type": "markdown",
   "metadata": {},
   "source": [
    "These atomic models make use of the [APIs](https://os.mbed.com/docs/mbed-os/v6.15/apis/index.html#:~:text=Input/Output%20drivers) provided by `Mbed-OS`.\n",
    "\n",
    "So, let's take a look at the DigitalInput atomic model:"
   ]
  },
  {
   "cell_type": "code",
   "execution_count": 70,
   "metadata": {},
   "outputs": [
    {
     "name": "stdout",
     "output_type": "stream",
     "text": [
      "/**\n",
      "* Jon Menard\n",
      "* ARSLab - Carleton University\n",
      "*\n",
      "* Digital Input:\n",
      "* Model to interface with a digital Input pin for Embedded Cadmium.\n",
      "*/\n",
      "\n",
      "#ifndef RT_DIGITALINPUT_TEST_HPP\n",
      "#define RT_DIGITALINPUT_TEST_HPP\n",
      "\n",
      "#ifndef NO_LOGGING\n",
      "\t#include <iostream>\n",
      "#endif\n",
      "#include <optional>\n",
      "#include <cadmium/core/modeling/atomic.hpp>\n",
      "\n",
      "#include <limits>\n",
      "#include <math.h> \n",
      "#include <assert.h>\n",
      "#include <memory>\n",
      "#ifndef NO_LOGGING\n",
      "\t#include <iomanip>\n",
      "\t#include <iostream>\n",
      "\t#include <fstream>\n",
      "#endif\n",
      "#include <string>\n",
      "#include <chrono>\n",
      "#include <algorithm>\n",
      "#include <limits>\n",
      "#include <random>\n",
      "\n",
      "#ifdef RT_ARM_MBED\n",
      "#endif\n",
      "\n",
      "#include \"../mbed.h\"\n",
      "using namespace std;\n",
      "\n",
      "namespace cadmium {\n",
      "  \n",
      "  struct DigitalInputState {\n",
      "      bool output;\n",
      "      bool last;\n",
      "      double sigma;\n",
      "\n",
      "      /**\n",
      "      * Processor state constructor. By default, the processor is idling.\n",
      "      * \n",
      "      */\n",
      "      explicit DigitalInputState(): output(true), last(false), sigma(0){\n",
      "      }\n",
      "\n",
      "  }; \n",
      "\n",
      "#ifndef NO_LOGGING\n",
      "  /**\n",
      "     * Insertion operator for ProcessorState objects. It only displays the value of sigma.\n",
      "     * @param out output stream.\n",
      "     * @param s state to be represented in the output stream.\n",
      "     * @return output stream with sigma already inserted.\n",
      "     */\n",
      "    std::ostream& operator<<(std::ostream &out, const DigitalInputState& state) {\n",
      "        out << \"Pin: \" << (state.output ? 1 : 0); \n",
      "        return out;\n",
      "    }\n",
      "#endif\n",
      "\n",
      "  class DigitalInput : public Atomic<DigitalInputState> {\n",
      "      public:\n",
      "      \n",
      "        Port<bool> out;\n",
      "        //Parameters to be overwriten when instantiating the atomic model\n",
      "        DigitalIn* digiPin;\n",
      "        double   pollingRate;\n",
      "        // default constructor\n",
      "        DigitalInput(const std::string& id, PinName pin): Atomic<DigitalInputState>(id, DigitalInputState())  {\n",
      "          out = addOutPort<bool>(\"out\");\n",
      "          digiPin = new DigitalIn(pin);\n",
      "          pollingRate = 0.10; \n",
      "          state.output = digiPin->read();\n",
      "          state.last = state.output;\n",
      "        };\n",
      "      \n",
      "      // internal transition\n",
      "      void internalTransition(DigitalInputState& state) const override {\n",
      "        state.last = state.output;\n",
      "        state.output = digiPin->read() == 1;\n",
      "        state.sigma = pollingRate;\n",
      "      }\n",
      "\n",
      "      // external transition\n",
      "      void externalTransition(DigitalInputState& state, double e) const override {\n",
      "        // MBED_ASSERT(false);\n",
      "        // throw std::logic_error(\"External transition called in a model with no input ports\");\n",
      "      }\n",
      "      \n",
      "      // output function\n",
      "      void output(const DigitalInputState& state) const override {\n",
      "        if(state.last != state.output) {\n",
      "          bool output = state.output;\n",
      "          out->addMessage(output);\n",
      "        }\n",
      "      }\n",
      "\n",
      "      // time_advance function\n",
      "      [[nodiscard]] double timeAdvance(const DigitalInputState& state) const override {     \n",
      "          return state.sigma;\n",
      "      }\n",
      "\n",
      "  };\n",
      "} \n",
      "\n",
      "#endif // BOOST_SIMULATION_PDEVS_DIGITALINPUT_HPP\n"
     ]
    }
   ],
   "source": [
    "%%bash -s \"$CADMIUMV2_SRC\"\n",
    "\n",
    "cd $1/real_time/arm_mbed/io\n",
    "cat digitalInput.hpp"
   ]
  },
  {
   "cell_type": "markdown",
   "metadata": {},
   "source": [
    "Where `DigitalIn` is a class provided by Mbed-OS. The corresponding documentation can be checked [here](https://os.mbed.com/docs/mbed-os/v6.15/apis/digitalin.html).\n",
    "\n",
    "In case we want to add drivers to Mbed-OS, it is done by creating a folder `drivers/` in the root folder for our model and the put there the code for the driver.\n",
    "\n",
    "A lot of drivers for Mbed-OS can be found easily by _googling_."
   ]
  },
  {
   "cell_type": "markdown",
   "metadata": {
    "id": "sT8KwyBOltyK"
   },
   "source": [
    "## Drivers for Mbed-OS\n",
    "\n",
    "Drivers in mbed-os are located in the folder `mbed-os/drivers/`. There we can find: `AnalogIn`, `AnalogOut`, `DigitalIn`, `DigitalOut`, `PwmOut`, `I2C`, etc. Thiee drivers are used for instance for the atomics: [analogInput](https://github.com/SimulationEverywhere/cadmium_v2/blob/dev-rt/include/cadmium/core/real_time/arm_mbed/io/analogInput.hpp), [analogOutput](https://github.com/SimulationEverywhere/cadmium_v2/blob/dev-rt/include/cadmium/core/real_time/arm_mbed/io/analogOutput.hpp), [digitalInput](https://github.com/SimulationEverywhere/cadmium_v2/blob/dev-rt/include/cadmium/core/real_time/arm_mbed/io/digitalInput.hpp), [digitalOutput](https://github.com/SimulationEverywhere/cadmium_v2/blob/dev-rt/include/cadmium/core/real_time/arm_mbed/io/digitalOutput.hpp), [pwmOutput](https://github.com/SimulationEverywhere/cadmium_v2/blob/dev-rt/include/cadmium/core/real_time/arm_mbed/io/pwmOutput.hpp) in cadmium_v2 (`cadmium_v2/include/cadmium/core/real_time/arm_mbed/io/`). In addition, the sensor drivers developed for mbed-os make use of these drivers, for instance the driver for [sht31](https://os.mbed.com/users/andcor02/code/Sht31//file/c84a60326ecf/Sht31.h/) that depends on the mbed-os driver for [I2C](https://github.com/ARMmbed/mbed-os/blob/master/drivers/include/drivers/I2C.h)."
   ]
  },
  {
   "cell_type": "markdown",
   "metadata": {
    "id": "nmv5lWd_mmlx"
   },
   "source": [
    "Drivers APIs includes analog and digital inputs and outputs on development boards, as well as digital interfaces, which allow your board to interface with a computer or external devices, for instance: `AnalogIn`, `AnalogOut`, `DigitalIn`, `DigitalOut`, `PwmOut`, `I2C`. [Documentation](https://os.mbed.com/docs/mbed-os/v5.15/apis/drivers.html) for Drivers APIs.\n",
    "\n",
    "The [Timer](https://github.com/SimulationEverywhere/cadmium_v2/blob/215d200666490af67372758eedaf7149c98ce53b/include/cadmium/core/real_time/rt_clock.hpp#L86) used for advancing the time in an embedded simulation is a [Driver](https://github.com/ARMmbed/mbed-os/blob/master/drivers/include/drivers/Timer.h) too."
   ]
  },
  {
   "cell_type": "markdown",
   "metadata": {
    "id": "acZAYMuwnBCy"
   },
   "source": [
    "Network Interfaces API. Documentation for [Network Interfaces](https://os.mbed.com/docs/mbed-os/v5.15/apis/network-interfaces.html) APIs. Among them, the WiFi API can be found [here](https://os.mbed.com/docs/mbed-os/v5.15/apis/wi-fi.html) along with an example of use.\n",
    "\n",
    "Check the mbed-os version in `mbed_version.h` file under the `mbed-os/platform/` folder. The mbed-os 5 version will not be longer updated and its last update can be found [here](https://os.mbed.com/mbed-os/releases/#).\n",
    "\n",
    "The resulting file to be downloaded in the board lies in the `BUILD/` folder. There you will also find the compiled drivers.\n",
    "\n",
    "Under this folder, you will find a subfolder with the name of the **board**, for instance `NUCLEO_F401RE`, and the string `GCC_ARM` followed by the name of the profile, for instance for `cadmium.json` we have `GCC_ARM-CADMIUM`. So the path for the executable is: `/BUILD/NUCLEO_F401RE/GCC_ARM-CADMIUM`.\n",
    "\n",
    "Under this folder you will find all the compiled `.o` files."
   ]
  },
  {
   "cell_type": "code",
   "execution_count": 118,
   "metadata": {},
   "outputs": [
    {
     "name": "stdout",
     "output_type": "stream",
     "text": [
      "[mbed] Working path \"/home/piter/SED/demo-cadmiumv2\" (directory)\n",
      "[mbed] Detecting connected targets/boards to your system...\n",
      "[mbed] Opening serial terminal to \"NUCLEO_F401RE\"\n"
     ]
    }
   ],
   "source": [
    "%%bash\n",
    "mbed sterm -b 9600"
   ]
  }
 ],
 "metadata": {
  "colab": {
   "provenance": [],
   "toc_visible": true
  },
  "kernelspec": {
   "display_name": "Python 3 (ipykernel)",
   "language": "python",
   "name": "python3"
  },
  "language_info": {
   "codemirror_mode": {
    "name": "ipython",
    "version": 3
   },
   "file_extension": ".py",
   "mimetype": "text/x-python",
   "name": "python",
   "nbconvert_exporter": "python",
   "pygments_lexer": "ipython3",
   "version": "3.7.5"
  }
 },
 "nbformat": 4,
 "nbformat_minor": 4
}
